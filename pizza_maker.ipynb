{
 "cells": [
  {
   "cell_type": "markdown",
   "metadata": {},
   "source": [
    "# Pizza maker\n",
    "\n",
    "Specify the topping to create the texture for your favorite pizza."
   ]
  },
  {
   "cell_type": "code",
   "execution_count": null,
   "metadata": {},
   "outputs": [],
   "source": [
    "import os\n",
    "assets_dir = os.path.join(os.path.abspath(\".\"), 'assets') "
   ]
  },
  {
   "cell_type": "markdown",
   "metadata": {},
   "source": [
    "## How to use\n",
    "Edit `YOUR_PIZZA_NAME`, `BASE_PIZZA`, and the `TOPPING` list in the cell below, then run it to generate the pizza. The distribution of toppings is randomic, re-run the cell to get a new distribution. When satisfied, run the last cell to save the image."
   ]
  },
  {
   "cell_type": "code",
   "execution_count": null,
   "metadata": {},
   "outputs": [],
   "source": [
    "import math\n",
    "import random\n",
    "from PIL import Image\n",
    "\n",
    "# Create your pizza here!\n",
    "YOUR_PIZZA_NAME = \"prosciutto e funghi\"\n",
    "BASE_PIZZA = \"margherita\"               # must be in `assets/pizzas`\n",
    "TOPPINGS = [\"ham\", \"mushrooms\"]    # must be in `assets/toppings`\n",
    "#random.seed(1) # for reproducibility, change this to change your pizza\n",
    "                # comment to have a new pizza at each run\n",
    "\n",
    "# Get the available toppings\n",
    "toppings_available = []\n",
    "for f in os.listdir(os.path.join(assets_dir, \"toppings\")):\n",
    "    # To be \"available\" an topping must have an associated PNG image in the `assets/toppings` folder\n",
    "    if f.endswith(\".png\"):\n",
    "        topping = f.split(\".\")[0]\n",
    "        toppings_available.append(topping)\n",
    "\n",
    "# Import the 'base' pizza image\n",
    "bg_img = Image.open(os.path.join(assets_dir,\n",
    "                                 \"pizzas\",\n",
    "                                 \"{}.png\".format(BASE_PIZZA))\n",
    "                              )\n",
    "bg_img = bg_img.resize((512, 512))  # size of the original \"margherita.png\"\n",
    "bg_w, bg_h = bg_img.size\n",
    "\n",
    "# Scatter topping images onto the pizza image\n",
    "R = min(bg_h // 2, bg_w // 2) * 0.5     # adjust the gains to have toppings \n",
    "r = min(bg_h // 2, bg_w // 2) * 0.25    # closer or further from center.\n",
    "d = 75  # [px] size of topping image. \n",
    "        # TODO. Make it relative to radius.\n",
    "max_scattering = 90 # [px] maximum scattering wrt to seed position. \n",
    "                    # TODO. Make it relative to radius.\n",
    "for topping in TOPPINGS:\n",
    "    if topping not in toppings_available:\n",
    "        print(\"'{}' is not in the available toppings.\\n\".format(topping.capitalize()) + \n",
    "        \"The topping will not be added to your pizza.\\n\" +\n",
    "        \"Please add the corresponding `{}.png` image in the `assets` dir to make it available.\".format(topping))\n",
    "        continue\n",
    "    top_img = Image.open(os.path.join(assets_dir,\n",
    "                                      \"toppings\",\n",
    "                                      \"{}.png\".format(topping)))\n",
    "    top_img = top_img.resize((d, d))\n",
    "    for i in range(-4, 4):\n",
    "        ang = math.pi * i / 4\n",
    "        # Each offset coordinate is made of three terms:\n",
    "        #   - nominal position (add toppings regularly, in concentric circles)\n",
    "        #   - random factor (\"scatters\" topping from nominal position)\n",
    "        #   - icon size / 2 (move nominal position to topping center rather than corner)\n",
    "        offset = (bg_w //2 + int(math.sin(ang) * R) +\n",
    "                  int((random.random()-0.5)*max_scattering) -\n",
    "                  d // 2, \n",
    "                  bg_h // 2 + int(math.cos(ang) * R) + \n",
    "                  int((random.random()-0.5)*max_scattering) -\n",
    "                  d // 2,\n",
    "                  )\n",
    "        bg_img.paste(top_img, offset, top_img)\n",
    "        offset = (bg_w // 2 + int(math.sin(ang) * r) + \n",
    "                  int((random.random()-0.5)*max_scattering) -\n",
    "                  d // 2, \n",
    "                  bg_h // 2 + int(math.cos(ang) * r) + \n",
    "                  int((random.random()-0.5)*max_scattering) -\n",
    "                  d // 2,\n",
    "                  )\n",
    "        bg_img.paste(top_img, offset, top_img) \n",
    "# Display the result\n",
    "bg_img\n",
    "# If you are satisfied, move to the next cell to save your pizza.\n",
    "# Save-by-default is avoided to prevent overwriting."
   ]
  },
  {
   "cell_type": "code",
   "execution_count": null,
   "metadata": {},
   "outputs": [],
   "source": [
    "# Save your pizza\n",
    "bg_img.save(os.path.join(assets_dir,\n",
    "                         \"pizzas\",\n",
    "                         \"{}.png\".format(YOUR_PIZZA_NAME.lower().replace(\" \",\n",
    "                                                                          \"_\")\n",
    "                                                                          )))"
   ]
  }
 ],
 "metadata": {
  "kernelspec": {
   "display_name": "data_analysis",
   "language": "python",
   "name": "data_analysis"
  },
  "language_info": {
   "codemirror_mode": {
    "name": "ipython",
    "version": 3
   },
   "file_extension": ".py",
   "mimetype": "text/x-python",
   "name": "python",
   "nbconvert_exporter": "python",
   "pygments_lexer": "ipython3",
   "version": "3.11.9"
  }
 },
 "nbformat": 4,
 "nbformat_minor": 2
}
