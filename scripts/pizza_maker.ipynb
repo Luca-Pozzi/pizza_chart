{
 "cells": [
  {
   "cell_type": "markdown",
   "metadata": {},
   "source": [
    "# Pizza maker\n",
    "\n",
    "Specify the topping to create the texture for your favorite pizza."
   ]
  },
  {
   "cell_type": "code",
   "execution_count": null,
   "metadata": {},
   "outputs": [],
   "source": [
    "import os\n",
    "assets_dir = os.path.join(os.path.abspath(\".\"), 'assets') "
   ]
  },
  {
   "cell_type": "markdown",
   "metadata": {},
   "source": [
    "## How to use\n",
    "Edit `YOUR_PIZZA_NAME`, `BASE_PIZZA`, and the `TOPPING` list in the cell below, then run it to generate the pizza. The distribution of toppings is randomic, re-run the cell to get a new distribution. When satisfied, run the last cell to save the image."
   ]
  },
  {
   "cell_type": "code",
   "execution_count": null,
   "metadata": {},
   "outputs": [],
   "source": [
    "import math\n",
    "import random\n",
    "from PIL import Image\n",
    "\n",
    "### USER INPUT\n",
    "# Create your pizza here!\n",
    "YOUR_PIZZA_NAME = \"quattro stagioni\"\n",
    "BASE_PIZZA = \"margherita\"               # must be in `assets/pizzas`\n",
    "TOPPINGS = [\"mushrooms\", \"ham\", \"artichokes\", \"olives\"]    # must be in `assets/toppings`\n",
    "SIZE = (1024, 1024) # size of the final image\n",
    "SOURCE = 'default' # must be `default` or `custom`\n",
    "###\n",
    "\n",
    "if not SOURCE == 'custom':\n",
    "        # Default images are prepended with '_'.\n",
    "        prefix = '_'\n",
    "#random.seed(1) # for reproducibility, change this to change your pizza\n",
    "                # comment to have a new pizza at each run\n",
    "\n",
    "# Get the available toppings\n",
    "toppings_available = []\n",
    "for f in os.listdir(os.path.join(assets_dir, \"toppings\")):\n",
    "    # To be \"available\" a topping must have an associated PNG image in the `assets/toppings` folder\n",
    "    if f.endswith(\".png\"):\n",
    "        topping = f.split(\".\")[0].lstrip(\"_\")\n",
    "        toppings_available.append(topping)\n",
    "\n",
    "# Import the 'base' pizza image\n",
    "bg_img = Image.open(os.path.join(assets_dir,\n",
    "                                 \"pizzas\",\n",
    "                                 \"{}{}.png\".format(prefix, BASE_PIZZA))\n",
    "                              )\n",
    "bg_img = bg_img.resize(SIZE)  # size of the original \"margherita.png\"\n",
    "\n",
    "bg_w, bg_h = bg_img.size\n",
    "D = min(bg_w, bg_h)\n",
    "\n",
    "# Scatter topping images onto the pizza image. The toppings are placed into concencric circles. A small random offset is added to each topping.\n",
    "R = D//2 * 0.55     # adjust the gains to have toppings \n",
    "r = D//2 * 0.25     # closer or further from center.\n",
    "scale = 1.0 # scale factor for topping images\n",
    "max_scattering = D//2 * 0.15  # [px] maximum scattering wrt to seed position. \n",
    "for topping in TOPPINGS:\n",
    "    if topping not in toppings_available:\n",
    "        print(\"'{}' is not in the available toppings.\\n\".format(topping.capitalize()) + \n",
    "        \"The topping will not be added to your pizza.\\n\" +\n",
    "        \"Please add the corresponding `{}{}.png` image in the `assets` dir to make it available.\".format(prefix, topping))\n",
    "        continue\n",
    "    top_img = Image.open(os.path.join(assets_dir,\n",
    "                                      \"toppings\",\n",
    "                                      \"{}{}.png\".format(prefix, topping)))\n",
    "    top_w, top_h = top_img.size\n",
    "    d = int(top_w * scale)\n",
    "    top_img = top_img.resize((d, d))\n",
    "    for i in range(-4, 4):\n",
    "        ang = math.pi * i / 4\n",
    "        # Each offset coordinate is made of three terms:\n",
    "        #   - nominal position (add toppings regularly, in concentric circles)\n",
    "        #   - random factor (\"scatters\" topping from nominal position)\n",
    "        #   - icon size / 2 (move nominal position to topping center rather than corner)\n",
    "        offset = (bg_w //2 + int(math.sin(ang) * R) +\n",
    "                  int((random.random()-0.5)*max_scattering) -\n",
    "                  d // 2, \n",
    "                  bg_h // 2 + int(math.cos(ang) * R) + \n",
    "                  int((random.random()-0.5)*max_scattering) -\n",
    "                  d // 2,\n",
    "                  )\n",
    "        bg_img.paste(top_img, offset, top_img)\n",
    "        offset = (bg_w // 2 + int(math.sin(ang) * r) + \n",
    "                  int((random.random()-0.5)*max_scattering) -\n",
    "                  d // 2, \n",
    "                  bg_h // 2 + int(math.cos(ang) * r) + \n",
    "                  int((random.random()-0.5)*max_scattering) -\n",
    "                  d // 2,\n",
    "                  )\n",
    "        bg_img.paste(top_img, offset, top_img) \n",
    "# Display the result\n",
    "bg_img\n",
    "# If you are satisfied, move to the next cell to save your pizza.\n",
    "# Save-by-default is avoided to prevent overwriting."
   ]
  },
  {
   "cell_type": "code",
   "execution_count": null,
   "metadata": {},
   "outputs": [],
   "source": [
    "# Save your pizza\n",
    "bg_img.save(os.path.join(assets_dir,\n",
    "                         \"pizzas\",\n",
    "                         \"{}{}.png\".format(prefix,\n",
    "                                           YOUR_PIZZA_NAME.lower().replace(\" \",\n",
    "                                                                           \"_\")\n",
    "            )))"
   ]
  }
 ],
 "metadata": {
  "kernelspec": {
   "display_name": "data_analysis_venv",
   "language": "python",
   "name": "python3"
  },
  "language_info": {
   "codemirror_mode": {
    "name": "ipython",
    "version": 3
   },
   "file_extension": ".py",
   "mimetype": "text/x-python",
   "name": "python",
   "nbconvert_exporter": "python",
   "pygments_lexer": "ipython3",
   "version": "3.11.9"
  }
 },
 "nbformat": 4,
 "nbformat_minor": 2
}
