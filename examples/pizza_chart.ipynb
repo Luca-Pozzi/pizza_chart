{
 "cells": [
  {
   "cell_type": "markdown",
   "metadata": {},
   "source": [
    "# Pizza chart\n",
    "\n",
    "Pie chart with a salty twist."
   ]
  },
  {
   "cell_type": "markdown",
   "metadata": {},
   "source": [
    "Place your order as a list of tuples in the form `(pizza, num_of_pizza)`."
   ]
  },
  {
   "cell_type": "code",
   "execution_count": null,
   "metadata": {},
   "outputs": [],
   "source": [
    "from pizza_chart import pizza_chart\n",
    "\n",
    "order = [(\"Wurstel e patatine\", 3),\n",
    "         (\"Salame piccante\", 3),\n",
    "         (\"Margherita\", 3),\n",
    "         (\"Salsiccia e bufala\", 1)\n",
    "        ]\n",
    "\n",
    "pizza_chart = pizza_chart.plot(order, \n",
    "                               show=True, \n",
    "                               theme='dark',\n",
    "                               source='default'\n",
    "                               )"
   ]
  }
 ],
 "metadata": {
  "kernelspec": {
   "display_name": "pizza_chart_venv",
   "language": "python",
   "name": "python3"
  },
  "language_info": {
   "codemirror_mode": {
    "name": "ipython",
    "version": 3
   },
   "file_extension": ".py",
   "mimetype": "text/x-python",
   "name": "python",
   "nbconvert_exporter": "python",
   "pygments_lexer": "ipython3",
   "version": "3.11.9"
  }
 },
 "nbformat": 4,
 "nbformat_minor": 2
}
